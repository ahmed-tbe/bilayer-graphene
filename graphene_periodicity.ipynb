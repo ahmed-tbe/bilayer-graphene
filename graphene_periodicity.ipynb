{
  "nbformat": 4,
  "nbformat_minor": 0,
  "metadata": {
    "colab": {
      "provenance": [],
      "authorship_tag": "ABX9TyN6JwJtHFeVpaW/nmbDJpm7",
      "include_colab_link": true
    },
    "kernelspec": {
      "name": "python3",
      "display_name": "Python 3"
    },
    "language_info": {
      "name": "python"
    }
  },
  "cells": [
    {
      "cell_type": "markdown",
      "metadata": {
        "id": "view-in-github",
        "colab_type": "text"
      },
      "source": [
        "<a href=\"https://colab.research.google.com/github/ahmed-tbe/bilayer-graphene/blob/main/graphene_periodicity.ipynb\" target=\"_parent\"><img src=\"https://colab.research.google.com/assets/colab-badge.svg\" alt=\"Open In Colab\"/></a>"
      ]
    },
    {
      "cell_type": "code",
      "execution_count": null,
      "metadata": {
        "colab": {
          "base_uri": "https://localhost:8080/"
        },
        "id": "p1cy_dMs1qgf",
        "outputId": "04ba7357-64f5-4d55-c5eb-f7923e70c6d3"
      },
      "outputs": [
        {
          "output_type": "stream",
          "name": "stdout",
          "text": [
            "✅ Saved: graphene_trimmed_manual_periodic.data\n",
            "📏 Box: x = 93.48 Å, y = 93.72 Å, z = 3.35 Å\n"
          ]
        }
      ],
      "source": [
        "import re\n",
        "\n",
        "# === USER CONFIGURATION ===\n",
        "input_file = \"graphene_trimmed.data\"\n",
        "output_file = \"graphene_trimmed_manual_periodic.data\"\n",
        "\n",
        "# Lattice constants\n",
        "a_x = 2.46  # zigzag direction (x)\n",
        "a_y = 4.26  # armchair direction (y)\n",
        "\n",
        "# Manual trimming: number of unit cells to trim from each side\n",
        "trim_left = 1     # in units of a_x\n",
        "trim_right = 1\n",
        "trim_bottom = 1   # in units of a_y\n",
        "trim_top = 1\n",
        "\n",
        "# Tolerance for matching z-layers\n",
        "z_top = 3.35\n",
        "z_bot = 0.00\n",
        "z_tol = 0.2\n",
        "\n",
        "# === LOAD FILE ===\n",
        "with open(input_file, 'r') as f:\n",
        "    lines = f.readlines()\n",
        "\n",
        "start_idx = next(i for i, line in enumerate(lines) if line.strip() == \"Atoms\") + 2\n",
        "header_lines = lines[:start_idx]\n",
        "atom_lines = lines[start_idx:]\n",
        "\n",
        "atoms = []\n",
        "for line in atom_lines:\n",
        "    if not line.strip():\n",
        "        continue\n",
        "    parts = line.strip().split()\n",
        "    atom_id = int(parts[0])\n",
        "    atom_type = int(parts[1])\n",
        "    charge = float(parts[2])\n",
        "    x, y, z = map(float, parts[3:6])\n",
        "    atoms.append((atom_id, atom_type, charge, x, y, z))\n",
        "\n",
        "# === SPLIT LAYERS ===\n",
        "top_layer = [a for a in atoms if abs(a[5] - z_top) < z_tol]\n",
        "bottom_layer = [a for a in atoms if abs(a[5] - z_bot) < z_tol]\n",
        "\n",
        "# === COMBINE FOR GLOBAL SHIFT ===\n",
        "combined = top_layer + bottom_layer\n",
        "x_min = min(a[3] for a in combined)\n",
        "y_min = min(a[4] for a in combined)\n",
        "\n",
        "# Shift to origin\n",
        "shifted_atoms = []\n",
        "for (i, t, c, x, y, z) in combined:\n",
        "    shifted_atoms.append((i, t, c, x - x_min, y - y_min, z))\n",
        "\n",
        "# === TRIM BASED ON UNIT CELLS ===\n",
        "x_coords = [a[3] for a in shifted_atoms]\n",
        "y_coords = [a[4] for a in shifted_atoms]\n",
        "x_len = max(x_coords)\n",
        "y_len = max(y_coords)\n",
        "N_x = int(round(x_len / a_x))\n",
        "N_y = int(round(y_len / a_y))\n",
        "\n",
        "x_lo = trim_left * a_x\n",
        "x_hi = (N_x - trim_right) * a_x\n",
        "y_lo = trim_bottom * a_y\n",
        "y_hi = (N_y - trim_top) * a_y\n",
        "\n",
        "# Final trimmed region\n",
        "final_atoms = [\n",
        "    a for a in shifted_atoms\n",
        "    if (x_lo - 1e-4) <= a[3] <= (x_hi + 1e-4) and (y_lo - 1e-4) <= a[4] <= (y_hi + 1e-4)\n",
        "]\n",
        "\n",
        "# === REINDEX ===\n",
        "reindexed = [\n",
        "    (i + 1, a[1], a[2], a[3] - x_lo, a[4] - y_lo, a[5]) for i, a in enumerate(final_atoms)\n",
        "]\n",
        "\n",
        "# === UPDATE HEADER ===\n",
        "new_xhi = x_hi - x_lo\n",
        "new_yhi = y_hi - y_lo\n",
        "z_min = min(a[5] for a in reindexed)\n",
        "z_max = max(a[5] for a in reindexed)\n",
        "\n",
        "updated_header = []\n",
        "for line in header_lines:\n",
        "    if \"xlo xhi\" in line:\n",
        "        updated_header.append(f\"0.000000 {new_xhi:.6f} xlo xhi\\n\")\n",
        "    elif \"ylo yhi\" in line:\n",
        "        updated_header.append(f\"0.000000 {new_yhi:.6f} ylo yhi\\n\")\n",
        "    elif \"zlo zhi\" in line:\n",
        "        updated_header.append(f\"{z_min:.6f} {z_max:.6f} zlo zhi\\n\")\n",
        "    elif \"atoms\" in line:\n",
        "        updated_header.append(re.sub(r'^\\d+', str(len(reindexed)), line))\n",
        "    else:\n",
        "        updated_header.append(line)\n",
        "\n",
        "# === WRITE OUTPUT ===\n",
        "with open(output_file, 'w') as f:\n",
        "    f.writelines(updated_header)\n",
        "    f.write(\"\\nAtoms\\n\\n\")\n",
        "    for a in reindexed:\n",
        "        f.write(f\"{a[0]} {a[1]} {a[2]:.6f} {a[3]:.6f} {a[4]:.6f} {a[5]:.6f}\\n\")\n",
        "\n",
        "print(f\"✅ Saved: {output_file}\")\n",
        "print(f\"📏 Box: x = {new_xhi:.2f} Å, y = {new_yhi:.2f} Å, z = {z_max - z_min:.2f} Å\")\n"
      ]
    }
  ]
}